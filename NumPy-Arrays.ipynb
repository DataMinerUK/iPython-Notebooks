{
 "metadata": {
  "celltoolbar": "Raw Cell Format",
  "name": "",
  "signature": "sha256:41bf412d86999312b0826e804e7cf714ae3bd9c122d5e213659f9b9eeda7b90d"
 },
 "nbformat": 3,
 "nbformat_minor": 0,
 "worksheets": [
  {
   "cells": [
    {
     "cell_type": "code",
     "collapsed": false,
     "input": [
      "import numpy as np"
     ],
     "language": "python",
     "metadata": {},
     "outputs": []
    },
    {
     "cell_type": "markdown",
     "metadata": {},
     "source": [
      "# ndarray\n",
      " An ndaray is a generic multidimensional container for homogenous data. Every array has a shape, dimension and an inferred data type"
     ]
    },
    {
     "cell_type": "code",
     "collapsed": false,
     "input": [
      "data = [[1,2,3,4],[5,6,7,8],[9,10,11,12]]\n",
      "array = np.array(data)\n",
      "print array\n",
      "print array.shape\n",
      "print array.ndim\n",
      "print array.dtype"
     ],
     "language": "python",
     "metadata": {},
     "outputs": []
    },
    {
     "cell_type": "markdown",
     "metadata": {},
     "source": [
      "## Operations"
     ]
    },
    {
     "cell_type": "code",
     "collapsed": false,
     "input": [
      "print array + 5\n",
      "print array * array"
     ],
     "language": "python",
     "metadata": {},
     "outputs": []
    },
    {
     "cell_type": "markdown",
     "metadata": {},
     "source": [
      "## Indexing and Slicing"
     ]
    },
    {
     "cell_type": "code",
     "collapsed": false,
     "input": [
      "print array\n",
      "print array[1]\n",
      "print array[1][2]\n",
      "print array[1,2]\n",
      "print array[1][1:3]\n",
      "print array[1,1:3]\n",
      "print array[1:3]\n",
      "print array[1:3][1][0]\n",
      "print array[:1, 2:]\n",
      "print array[:, 2:]\n",
      "print array[[2, 0, 1]] # fancy indexing, indexing using integer arrays\n",
      "print array[[0,2],[0,3]] # selects array elements at (0,0) and (2,3)\n",
      "print array[np.ix_([0,2],[0,3])] # selects 2X2 matrix, row 0 and 2, columns 0 and 3"
     ],
     "language": "python",
     "metadata": {},
     "outputs": []
    },
    {
     "cell_type": "markdown",
     "metadata": {},
     "source": [
      "If you assign a value to a slice the value is propagated to the entire section. Array slices are views to the original. This means that the data is not copied, and any modifications tot he view will be reflected in the source array. Indexing always copies data into a new array"
     ]
    },
    {
     "cell_type": "code",
     "collapsed": false,
     "input": [
      "arr10 = np.arange(10)\n",
      "arr_slice = arr10[5:8]\n",
      "print arr10\n",
      "print arr_slice\n",
      "arr_slice[1] = 12345\n",
      "print arr10\n",
      "print arr_slice\n",
      "arr_slice[:] = 64\n",
      "print arr10\n",
      "print arr_slice"
     ],
     "language": "python",
     "metadata": {},
     "outputs": []
    },
    {
     "cell_type": "markdown",
     "metadata": {},
     "source": [
      "# Data Types\n",
      "`dtype` can be specified e.g. `np.array([1,2,3], dtype=np.float64)`. You can explicitly cast an array from one dtype to another using ndarray's `astype` method"
     ]
    },
    {
     "cell_type": "code",
     "collapsed": false,
     "input": [
      "float_array = array.astype(np.float64)\n",
      "print float_array\n",
      "print float_array.dtype"
     ],
     "language": "python",
     "metadata": {},
     "outputs": []
    },
    {
     "cell_type": "markdown",
     "metadata": {},
     "source": [
      "# Zeros and Ones\n",
      "Create arrays of 0's and 1's"
     ]
    },
    {
     "cell_type": "code",
     "collapsed": false,
     "input": [
      "print np.zeros(5)\n",
      "print np.ones((3,2))"
     ],
     "language": "python",
     "metadata": {},
     "outputs": []
    },
    {
     "cell_type": "markdown",
     "metadata": {},
     "source": [
      "# arange\n",
      "Array-valued version of the built-in Python `range` function"
     ]
    },
    {
     "cell_type": "code",
     "collapsed": false,
     "input": [
      "print np.arange(3)"
     ],
     "language": "python",
     "metadata": {},
     "outputs": []
    },
    {
     "cell_type": "markdown",
     "metadata": {},
     "source": [
      "# Identity\n",
      "Creates the identity matrix of 1's along the diagonal and 0's everywhere else"
     ]
    },
    {
     "cell_type": "code",
     "collapsed": false,
     "input": [
      "print np.identity(5)"
     ],
     "language": "python",
     "metadata": {},
     "outputs": []
    },
    {
     "cell_type": "markdown",
     "metadata": {},
     "source": [
      "# Boolean indexing\n",
      "Selecting data from an array by boolean indexing always creates a copy of the data. The Python keywords `and` and `or` do not work with boolean arrays"
     ]
    },
    {
     "cell_type": "code",
     "collapsed": false,
     "input": [
      "numbers = np.arange(10)\n",
      "print numbers[(numbers > 5) | (numbers < 2)]\n",
      "numbers[numbers > 5] = -1\n",
      "print numbers"
     ],
     "language": "python",
     "metadata": {},
     "outputs": []
    },
    {
     "cell_type": "markdown",
     "metadata": {},
     "source": [
      "# Transposing and Swapping Axes\n",
      "Arrays have the `transpose` method and the special `T` attribute"
     ]
    },
    {
     "cell_type": "code",
     "collapsed": false,
     "input": [
      "arr15 = np.arange(15).reshape((3,5))\n",
      "print arr15\n",
      "print arr15.T\n",
      "print arr15.transpose((1,0))\n",
      "print arr15.swapaxes(1,0)"
     ],
     "language": "python",
     "metadata": {},
     "outputs": []
    },
    {
     "cell_type": "markdown",
     "metadata": {},
     "source": [
      "# Data Processing\n",
      "In general, vectorized array operations will often be one or tow (or more) orders of magnitude greater than their pure Python equivalents, with the biggest impact in any kind of numerical computation"
     ]
    },
    {
     "cell_type": "code",
     "collapsed": false,
     "input": [
      "points = np.arange(-5, 5, 0.01) # 1000 equally spaced points\n",
      "xs, ys = np.meshgrid(points, points) # np.meshgrid takes two 1D arrays and produces two 2D matrices corresponding to all pairs of (x,y) in the two arrays\n",
      "print xs\n",
      "print ys"
     ],
     "language": "python",
     "metadata": {},
     "outputs": []
    },
    {
     "cell_type": "code",
     "collapsed": false,
     "input": [
      "%matplotlib inline\n",
      "import matplotlib.pyplot as plt\n",
      "\n",
      "z = np.sqrt(xs ** 2 + ys ** 2)\n",
      "plt.imshow(z, cmap=plt.cm.gray);plt.colorbar()"
     ],
     "language": "python",
     "metadata": {},
     "outputs": []
    },
    {
     "cell_type": "code",
     "collapsed": false,
     "input": [
      "xarr = np.array([1,2,3,4,5])\n",
      "yarr = np.array([6,7,8,9,10])\n",
      "cond = [True, False, True, True, False]"
     ],
     "language": "python",
     "metadata": {},
     "outputs": []
    },
    {
     "cell_type": "markdown",
     "metadata": {},
     "source": [
      "Suppose we wanted to take a value from `xarr` whenever the corresponding value in `cond` is `True` otherwise take the value from `yarr`. We would use `np.where`"
     ]
    },
    {
     "cell_type": "code",
     "collapsed": false,
     "input": [
      "print np.where(cond, xarr, yarr)"
     ],
     "language": "python",
     "metadata": {},
     "outputs": []
    },
    {
     "cell_type": "code",
     "collapsed": false,
     "input": [
      "arr = np.random.rand(4,4)\n",
      "print arr\n",
      "print np.where(arr > 0.5, 2, arr) "
     ],
     "language": "python",
     "metadata": {},
     "outputs": []
    },
    {
     "cell_type": "code",
     "collapsed": false,
     "input": [
      "print arr.mean()\n",
      "print arr.sum()\n",
      "print arr.sum(1) # along the second dimension i.e. rows"
     ],
     "language": "python",
     "metadata": {},
     "outputs": []
    },
    {
     "cell_type": "markdown",
     "metadata": {},
     "source": [
      "Boolean values are coerced to 1 (`True`) and 0 (`False`), thus sum is often used as a means of counting `True` values in a boolean array"
     ]
    },
    {
     "cell_type": "code",
     "collapsed": false,
     "input": [
      "(arr > 0.5).sum()"
     ],
     "language": "python",
     "metadata": {},
     "outputs": []
    },
    {
     "cell_type": "code",
     "collapsed": false,
     "input": [
      "nums = np.array([3,7,2,6,9,3,4,7,2,1])\n",
      "print np.sort(nums)\n",
      "print np.unique(nums)\n",
      "print np.in1d(nums, [3,6,9])"
     ],
     "language": "python",
     "metadata": {},
     "outputs": []
    }
   ],
   "metadata": {}
  }
 ]
}